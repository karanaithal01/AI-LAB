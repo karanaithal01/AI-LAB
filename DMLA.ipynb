{
  "nbformat": 4,
  "nbformat_minor": 0,
  "metadata": {
    "colab": {
      "name": "DMLA.ipynb",
      "provenance": [],
      "collapsed_sections": [],
      "authorship_tag": "ABX9TyPIOLEZIE2OT2AXrQW/3Gbq",
      "include_colab_link": true
    },
    "kernelspec": {
      "name": "python3",
      "display_name": "Python 3"
    }
  },
  "cells": [
    {
      "cell_type": "markdown",
      "metadata": {
        "id": "view-in-github",
        "colab_type": "text"
      },
      "source": [
        "<a href=\"https://colab.research.google.com/github/karanaithal01/AI-LAB/blob/main/DMLA.ipynb\" target=\"_parent\"><img src=\"https://colab.research.google.com/assets/colab-badge.svg\" alt=\"Open In Colab\"/></a>"
      ]
    },
    {
      "cell_type": "code",
      "metadata": {
        "id": "ty7Zum3irvSD"
      },
      "source": [
        "import pandas as pd \r\n",
        "import numpy as np \r\n",
        "import matplotlib.pyplot as plt \r\n",
        "import random\r\n",
        "import seaborn as sns \r\n",
        "from fbprophet import Prophet"
      ],
      "execution_count": 1,
      "outputs": []
    },
    {
      "cell_type": "code",
      "metadata": {
        "colab": {
          "resources": {
            "http://localhost:8080/nbextensions/google.colab/files.js": {
              "data": "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",
              "ok": true,
              "headers": [
                [
                  "content-type",
                  "application/javascript"
                ]
              ],
              "status": 200,
              "status_text": ""
            }
          },
          "base_uri": "https://localhost:8080/",
          "height": 72
        },
        "id": "Y3w50T5Nrvxo",
        "outputId": "dd2e0bb2-285e-470c-e041-729e827317a5"
      },
      "source": [
        "from google.colab import files\r\n",
        "uploaded = files.upload()"
      ],
      "execution_count": 2,
      "outputs": [
        {
          "output_type": "display_data",
          "data": {
            "text/html": [
              "\n",
              "     <input type=\"file\" id=\"files-546fd807-ac57-49c7-bdb4-4f69eae922fc\" name=\"files[]\" multiple disabled\n",
              "        style=\"border:none\" />\n",
              "     <output id=\"result-546fd807-ac57-49c7-bdb4-4f69eae922fc\">\n",
              "      Upload widget is only available when the cell has been executed in the\n",
              "      current browser session. Please rerun this cell to enable.\n",
              "      </output>\n",
              "      <script src=\"/nbextensions/google.colab/files.js\"></script> "
            ],
            "text/plain": [
              "<IPython.core.display.HTML object>"
            ]
          },
          "metadata": {
            "tags": []
          }
        },
        {
          "output_type": "stream",
          "text": [
            "Saving avocado.csv to avocado.csv\n"
          ],
          "name": "stdout"
        }
      ]
    },
    {
      "cell_type": "code",
      "metadata": {
        "id": "Ik06Vo6UsjsG"
      },
      "source": [
        "import io\r\n",
        "avocado_df = pd.read_csv(io.BytesIO(uploaded['avocado.csv']))"
      ],
      "execution_count": 3,
      "outputs": []
    },
    {
      "cell_type": "code",
      "metadata": {
        "colab": {
          "base_uri": "https://localhost:8080/",
          "height": 359
        },
        "id": "nLfRrETdtHp-",
        "outputId": "a062655e-4228-40a0-aec8-b02af74dd0e1"
      },
      "source": [
        "avocado_df.tail(10)"
      ],
      "execution_count": 4,
      "outputs": [
        {
          "output_type": "execute_result",
          "data": {
            "text/html": [
              "<div>\n",
              "<style scoped>\n",
              "    .dataframe tbody tr th:only-of-type {\n",
              "        vertical-align: middle;\n",
              "    }\n",
              "\n",
              "    .dataframe tbody tr th {\n",
              "        vertical-align: top;\n",
              "    }\n",
              "\n",
              "    .dataframe thead th {\n",
              "        text-align: right;\n",
              "    }\n",
              "</style>\n",
              "<table border=\"1\" class=\"dataframe\">\n",
              "  <thead>\n",
              "    <tr style=\"text-align: right;\">\n",
              "      <th></th>\n",
              "      <th>Unnamed: 0</th>\n",
              "      <th>Date</th>\n",
              "      <th>AveragePrice</th>\n",
              "      <th>Total Volume</th>\n",
              "      <th>4046</th>\n",
              "      <th>4225</th>\n",
              "      <th>4770</th>\n",
              "      <th>Total Bags</th>\n",
              "      <th>Small Bags</th>\n",
              "      <th>Large Bags</th>\n",
              "      <th>XLarge Bags</th>\n",
              "      <th>type</th>\n",
              "      <th>year</th>\n",
              "      <th>region</th>\n",
              "    </tr>\n",
              "  </thead>\n",
              "  <tbody>\n",
              "    <tr>\n",
              "      <th>18239</th>\n",
              "      <td>2</td>\n",
              "      <td>2018-03-11</td>\n",
              "      <td>1.56</td>\n",
              "      <td>22128.42</td>\n",
              "      <td>2162.67</td>\n",
              "      <td>3194.25</td>\n",
              "      <td>8.93</td>\n",
              "      <td>16762.57</td>\n",
              "      <td>16510.32</td>\n",
              "      <td>252.25</td>\n",
              "      <td>0.0</td>\n",
              "      <td>organic</td>\n",
              "      <td>2018</td>\n",
              "      <td>WestTexNewMexico</td>\n",
              "    </tr>\n",
              "    <tr>\n",
              "      <th>18240</th>\n",
              "      <td>3</td>\n",
              "      <td>2018-03-04</td>\n",
              "      <td>1.54</td>\n",
              "      <td>17393.30</td>\n",
              "      <td>1832.24</td>\n",
              "      <td>1905.57</td>\n",
              "      <td>0.00</td>\n",
              "      <td>13655.49</td>\n",
              "      <td>13401.93</td>\n",
              "      <td>253.56</td>\n",
              "      <td>0.0</td>\n",
              "      <td>organic</td>\n",
              "      <td>2018</td>\n",
              "      <td>WestTexNewMexico</td>\n",
              "    </tr>\n",
              "    <tr>\n",
              "      <th>18241</th>\n",
              "      <td>4</td>\n",
              "      <td>2018-02-25</td>\n",
              "      <td>1.57</td>\n",
              "      <td>18421.24</td>\n",
              "      <td>1974.26</td>\n",
              "      <td>2482.65</td>\n",
              "      <td>0.00</td>\n",
              "      <td>13964.33</td>\n",
              "      <td>13698.27</td>\n",
              "      <td>266.06</td>\n",
              "      <td>0.0</td>\n",
              "      <td>organic</td>\n",
              "      <td>2018</td>\n",
              "      <td>WestTexNewMexico</td>\n",
              "    </tr>\n",
              "    <tr>\n",
              "      <th>18242</th>\n",
              "      <td>5</td>\n",
              "      <td>2018-02-18</td>\n",
              "      <td>1.56</td>\n",
              "      <td>17597.12</td>\n",
              "      <td>1892.05</td>\n",
              "      <td>1928.36</td>\n",
              "      <td>0.00</td>\n",
              "      <td>13776.71</td>\n",
              "      <td>13553.53</td>\n",
              "      <td>223.18</td>\n",
              "      <td>0.0</td>\n",
              "      <td>organic</td>\n",
              "      <td>2018</td>\n",
              "      <td>WestTexNewMexico</td>\n",
              "    </tr>\n",
              "    <tr>\n",
              "      <th>18243</th>\n",
              "      <td>6</td>\n",
              "      <td>2018-02-11</td>\n",
              "      <td>1.57</td>\n",
              "      <td>15986.17</td>\n",
              "      <td>1924.28</td>\n",
              "      <td>1368.32</td>\n",
              "      <td>0.00</td>\n",
              "      <td>12693.57</td>\n",
              "      <td>12437.35</td>\n",
              "      <td>256.22</td>\n",
              "      <td>0.0</td>\n",
              "      <td>organic</td>\n",
              "      <td>2018</td>\n",
              "      <td>WestTexNewMexico</td>\n",
              "    </tr>\n",
              "    <tr>\n",
              "      <th>18244</th>\n",
              "      <td>7</td>\n",
              "      <td>2018-02-04</td>\n",
              "      <td>1.63</td>\n",
              "      <td>17074.83</td>\n",
              "      <td>2046.96</td>\n",
              "      <td>1529.20</td>\n",
              "      <td>0.00</td>\n",
              "      <td>13498.67</td>\n",
              "      <td>13066.82</td>\n",
              "      <td>431.85</td>\n",
              "      <td>0.0</td>\n",
              "      <td>organic</td>\n",
              "      <td>2018</td>\n",
              "      <td>WestTexNewMexico</td>\n",
              "    </tr>\n",
              "    <tr>\n",
              "      <th>18245</th>\n",
              "      <td>8</td>\n",
              "      <td>2018-01-28</td>\n",
              "      <td>1.71</td>\n",
              "      <td>13888.04</td>\n",
              "      <td>1191.70</td>\n",
              "      <td>3431.50</td>\n",
              "      <td>0.00</td>\n",
              "      <td>9264.84</td>\n",
              "      <td>8940.04</td>\n",
              "      <td>324.80</td>\n",
              "      <td>0.0</td>\n",
              "      <td>organic</td>\n",
              "      <td>2018</td>\n",
              "      <td>WestTexNewMexico</td>\n",
              "    </tr>\n",
              "    <tr>\n",
              "      <th>18246</th>\n",
              "      <td>9</td>\n",
              "      <td>2018-01-21</td>\n",
              "      <td>1.87</td>\n",
              "      <td>13766.76</td>\n",
              "      <td>1191.92</td>\n",
              "      <td>2452.79</td>\n",
              "      <td>727.94</td>\n",
              "      <td>9394.11</td>\n",
              "      <td>9351.80</td>\n",
              "      <td>42.31</td>\n",
              "      <td>0.0</td>\n",
              "      <td>organic</td>\n",
              "      <td>2018</td>\n",
              "      <td>WestTexNewMexico</td>\n",
              "    </tr>\n",
              "    <tr>\n",
              "      <th>18247</th>\n",
              "      <td>10</td>\n",
              "      <td>2018-01-14</td>\n",
              "      <td>1.93</td>\n",
              "      <td>16205.22</td>\n",
              "      <td>1527.63</td>\n",
              "      <td>2981.04</td>\n",
              "      <td>727.01</td>\n",
              "      <td>10969.54</td>\n",
              "      <td>10919.54</td>\n",
              "      <td>50.00</td>\n",
              "      <td>0.0</td>\n",
              "      <td>organic</td>\n",
              "      <td>2018</td>\n",
              "      <td>WestTexNewMexico</td>\n",
              "    </tr>\n",
              "    <tr>\n",
              "      <th>18248</th>\n",
              "      <td>11</td>\n",
              "      <td>2018-01-07</td>\n",
              "      <td>1.62</td>\n",
              "      <td>17489.58</td>\n",
              "      <td>2894.77</td>\n",
              "      <td>2356.13</td>\n",
              "      <td>224.53</td>\n",
              "      <td>12014.15</td>\n",
              "      <td>11988.14</td>\n",
              "      <td>26.01</td>\n",
              "      <td>0.0</td>\n",
              "      <td>organic</td>\n",
              "      <td>2018</td>\n",
              "      <td>WestTexNewMexico</td>\n",
              "    </tr>\n",
              "  </tbody>\n",
              "</table>\n",
              "</div>"
            ],
            "text/plain": [
              "       Unnamed: 0        Date  AveragePrice  ...     type  year            region\n",
              "18239           2  2018-03-11          1.56  ...  organic  2018  WestTexNewMexico\n",
              "18240           3  2018-03-04          1.54  ...  organic  2018  WestTexNewMexico\n",
              "18241           4  2018-02-25          1.57  ...  organic  2018  WestTexNewMexico\n",
              "18242           5  2018-02-18          1.56  ...  organic  2018  WestTexNewMexico\n",
              "18243           6  2018-02-11          1.57  ...  organic  2018  WestTexNewMexico\n",
              "18244           7  2018-02-04          1.63  ...  organic  2018  WestTexNewMexico\n",
              "18245           8  2018-01-28          1.71  ...  organic  2018  WestTexNewMexico\n",
              "18246           9  2018-01-21          1.87  ...  organic  2018  WestTexNewMexico\n",
              "18247          10  2018-01-14          1.93  ...  organic  2018  WestTexNewMexico\n",
              "18248          11  2018-01-07          1.62  ...  organic  2018  WestTexNewMexico\n",
              "\n",
              "[10 rows x 14 columns]"
            ]
          },
          "metadata": {
            "tags": []
          },
          "execution_count": 4
        }
      ]
    },
    {
      "cell_type": "code",
      "metadata": {
        "colab": {
          "base_uri": "https://localhost:8080/",
          "height": 297
        },
        "id": "LrwSef_itMri",
        "outputId": "68bff0e7-99b4-422a-c32a-2ebe20948ed2"
      },
      "source": [
        "avocado_df.describe()"
      ],
      "execution_count": 5,
      "outputs": [
        {
          "output_type": "execute_result",
          "data": {
            "text/html": [
              "<div>\n",
              "<style scoped>\n",
              "    .dataframe tbody tr th:only-of-type {\n",
              "        vertical-align: middle;\n",
              "    }\n",
              "\n",
              "    .dataframe tbody tr th {\n",
              "        vertical-align: top;\n",
              "    }\n",
              "\n",
              "    .dataframe thead th {\n",
              "        text-align: right;\n",
              "    }\n",
              "</style>\n",
              "<table border=\"1\" class=\"dataframe\">\n",
              "  <thead>\n",
              "    <tr style=\"text-align: right;\">\n",
              "      <th></th>\n",
              "      <th>Unnamed: 0</th>\n",
              "      <th>AveragePrice</th>\n",
              "      <th>Total Volume</th>\n",
              "      <th>4046</th>\n",
              "      <th>4225</th>\n",
              "      <th>4770</th>\n",
              "      <th>Total Bags</th>\n",
              "      <th>Small Bags</th>\n",
              "      <th>Large Bags</th>\n",
              "      <th>XLarge Bags</th>\n",
              "      <th>year</th>\n",
              "    </tr>\n",
              "  </thead>\n",
              "  <tbody>\n",
              "    <tr>\n",
              "      <th>count</th>\n",
              "      <td>18249.000000</td>\n",
              "      <td>18249.000000</td>\n",
              "      <td>1.824900e+04</td>\n",
              "      <td>1.824900e+04</td>\n",
              "      <td>1.824900e+04</td>\n",
              "      <td>1.824900e+04</td>\n",
              "      <td>1.824900e+04</td>\n",
              "      <td>1.824900e+04</td>\n",
              "      <td>1.824900e+04</td>\n",
              "      <td>18249.000000</td>\n",
              "      <td>18249.000000</td>\n",
              "    </tr>\n",
              "    <tr>\n",
              "      <th>mean</th>\n",
              "      <td>24.232232</td>\n",
              "      <td>1.405978</td>\n",
              "      <td>8.506440e+05</td>\n",
              "      <td>2.930084e+05</td>\n",
              "      <td>2.951546e+05</td>\n",
              "      <td>2.283974e+04</td>\n",
              "      <td>2.396392e+05</td>\n",
              "      <td>1.821947e+05</td>\n",
              "      <td>5.433809e+04</td>\n",
              "      <td>3106.426507</td>\n",
              "      <td>2016.147899</td>\n",
              "    </tr>\n",
              "    <tr>\n",
              "      <th>std</th>\n",
              "      <td>15.481045</td>\n",
              "      <td>0.402677</td>\n",
              "      <td>3.453545e+06</td>\n",
              "      <td>1.264989e+06</td>\n",
              "      <td>1.204120e+06</td>\n",
              "      <td>1.074641e+05</td>\n",
              "      <td>9.862424e+05</td>\n",
              "      <td>7.461785e+05</td>\n",
              "      <td>2.439660e+05</td>\n",
              "      <td>17692.894652</td>\n",
              "      <td>0.939938</td>\n",
              "    </tr>\n",
              "    <tr>\n",
              "      <th>min</th>\n",
              "      <td>0.000000</td>\n",
              "      <td>0.440000</td>\n",
              "      <td>8.456000e+01</td>\n",
              "      <td>0.000000e+00</td>\n",
              "      <td>0.000000e+00</td>\n",
              "      <td>0.000000e+00</td>\n",
              "      <td>0.000000e+00</td>\n",
              "      <td>0.000000e+00</td>\n",
              "      <td>0.000000e+00</td>\n",
              "      <td>0.000000</td>\n",
              "      <td>2015.000000</td>\n",
              "    </tr>\n",
              "    <tr>\n",
              "      <th>25%</th>\n",
              "      <td>10.000000</td>\n",
              "      <td>1.100000</td>\n",
              "      <td>1.083858e+04</td>\n",
              "      <td>8.540700e+02</td>\n",
              "      <td>3.008780e+03</td>\n",
              "      <td>0.000000e+00</td>\n",
              "      <td>5.088640e+03</td>\n",
              "      <td>2.849420e+03</td>\n",
              "      <td>1.274700e+02</td>\n",
              "      <td>0.000000</td>\n",
              "      <td>2015.000000</td>\n",
              "    </tr>\n",
              "    <tr>\n",
              "      <th>50%</th>\n",
              "      <td>24.000000</td>\n",
              "      <td>1.370000</td>\n",
              "      <td>1.073768e+05</td>\n",
              "      <td>8.645300e+03</td>\n",
              "      <td>2.906102e+04</td>\n",
              "      <td>1.849900e+02</td>\n",
              "      <td>3.974383e+04</td>\n",
              "      <td>2.636282e+04</td>\n",
              "      <td>2.647710e+03</td>\n",
              "      <td>0.000000</td>\n",
              "      <td>2016.000000</td>\n",
              "    </tr>\n",
              "    <tr>\n",
              "      <th>75%</th>\n",
              "      <td>38.000000</td>\n",
              "      <td>1.660000</td>\n",
              "      <td>4.329623e+05</td>\n",
              "      <td>1.110202e+05</td>\n",
              "      <td>1.502069e+05</td>\n",
              "      <td>6.243420e+03</td>\n",
              "      <td>1.107834e+05</td>\n",
              "      <td>8.333767e+04</td>\n",
              "      <td>2.202925e+04</td>\n",
              "      <td>132.500000</td>\n",
              "      <td>2017.000000</td>\n",
              "    </tr>\n",
              "    <tr>\n",
              "      <th>max</th>\n",
              "      <td>52.000000</td>\n",
              "      <td>3.250000</td>\n",
              "      <td>6.250565e+07</td>\n",
              "      <td>2.274362e+07</td>\n",
              "      <td>2.047057e+07</td>\n",
              "      <td>2.546439e+06</td>\n",
              "      <td>1.937313e+07</td>\n",
              "      <td>1.338459e+07</td>\n",
              "      <td>5.719097e+06</td>\n",
              "      <td>551693.650000</td>\n",
              "      <td>2018.000000</td>\n",
              "    </tr>\n",
              "  </tbody>\n",
              "</table>\n",
              "</div>"
            ],
            "text/plain": [
              "         Unnamed: 0  AveragePrice  ...    XLarge Bags          year\n",
              "count  18249.000000  18249.000000  ...   18249.000000  18249.000000\n",
              "mean      24.232232      1.405978  ...    3106.426507   2016.147899\n",
              "std       15.481045      0.402677  ...   17692.894652      0.939938\n",
              "min        0.000000      0.440000  ...       0.000000   2015.000000\n",
              "25%       10.000000      1.100000  ...       0.000000   2015.000000\n",
              "50%       24.000000      1.370000  ...       0.000000   2016.000000\n",
              "75%       38.000000      1.660000  ...     132.500000   2017.000000\n",
              "max       52.000000      3.250000  ...  551693.650000   2018.000000\n",
              "\n",
              "[8 rows x 11 columns]"
            ]
          },
          "metadata": {
            "tags": []
          },
          "execution_count": 5
        }
      ]
    },
    {
      "cell_type": "code",
      "metadata": {
        "colab": {
          "base_uri": "https://localhost:8080/"
        },
        "id": "02cwlitkttZG",
        "outputId": "7202ea13-a5c2-44b8-b1b1-a45964124534"
      },
      "source": [
        "avocado_df.info()"
      ],
      "execution_count": 6,
      "outputs": [
        {
          "output_type": "stream",
          "text": [
            "<class 'pandas.core.frame.DataFrame'>\n",
            "RangeIndex: 18249 entries, 0 to 18248\n",
            "Data columns (total 14 columns):\n",
            " #   Column        Non-Null Count  Dtype  \n",
            "---  ------        --------------  -----  \n",
            " 0   Unnamed: 0    18249 non-null  int64  \n",
            " 1   Date          18249 non-null  object \n",
            " 2   AveragePrice  18249 non-null  float64\n",
            " 3   Total Volume  18249 non-null  float64\n",
            " 4   4046          18249 non-null  float64\n",
            " 5   4225          18249 non-null  float64\n",
            " 6   4770          18249 non-null  float64\n",
            " 7   Total Bags    18249 non-null  float64\n",
            " 8   Small Bags    18249 non-null  float64\n",
            " 9   Large Bags    18249 non-null  float64\n",
            " 10  XLarge Bags   18249 non-null  float64\n",
            " 11  type          18249 non-null  object \n",
            " 12  year          18249 non-null  int64  \n",
            " 13  region        18249 non-null  object \n",
            "dtypes: float64(9), int64(2), object(3)\n",
            "memory usage: 1.9+ MB\n"
          ],
          "name": "stdout"
        }
      ]
    },
    {
      "cell_type": "code",
      "metadata": {
        "colab": {
          "base_uri": "https://localhost:8080/"
        },
        "id": "IeJdeQH7t0NN",
        "outputId": "19b4607a-10f7-4350-f2cd-a4c4d5add6cf"
      },
      "source": [
        "avocado_df.isnull().sum()"
      ],
      "execution_count": 7,
      "outputs": [
        {
          "output_type": "execute_result",
          "data": {
            "text/plain": [
              "Unnamed: 0      0\n",
              "Date            0\n",
              "AveragePrice    0\n",
              "Total Volume    0\n",
              "4046            0\n",
              "4225            0\n",
              "4770            0\n",
              "Total Bags      0\n",
              "Small Bags      0\n",
              "Large Bags      0\n",
              "XLarge Bags     0\n",
              "type            0\n",
              "year            0\n",
              "region          0\n",
              "dtype: int64"
            ]
          },
          "metadata": {
            "tags": []
          },
          "execution_count": 7
        }
      ]
    },
    {
      "cell_type": "code",
      "metadata": {
        "id": "NODWbPUat2vj"
      },
      "source": [
        "avocado_df = avocado_df.sort_values('Date')"
      ],
      "execution_count": 8,
      "outputs": []
    },
    {
      "cell_type": "code",
      "metadata": {
        "colab": {
          "base_uri": "https://localhost:8080/",
          "height": 51
        },
        "id": "lJIe0qc7t5lP",
        "outputId": "cca8ed52-971a-4510-d269-f8bc403af466"
      },
      "source": [
        "plt.figure(figsize = (10, 10))"
      ],
      "execution_count": 9,
      "outputs": [
        {
          "output_type": "execute_result",
          "data": {
            "text/plain": [
              "<Figure size 720x720 with 0 Axes>"
            ]
          },
          "metadata": {
            "tags": []
          },
          "execution_count": 9
        },
        {
          "output_type": "display_data",
          "data": {
            "text/plain": [
              "<Figure size 720x720 with 0 Axes>"
            ]
          },
          "metadata": {
            "tags": []
          }
        }
      ]
    },
    {
      "cell_type": "code",
      "metadata": {
        "colab": {
          "base_uri": "https://localhost:8080/",
          "height": 282
        },
        "id": "6_mgtY9_t76b",
        "outputId": "367c3922-e459-4425-d842-3b36f85fd4bf"
      },
      "source": [
        "plt.plot(avocado_df['Date'],avocado_df['AveragePrice'])"
      ],
      "execution_count": 10,
      "outputs": [
        {
          "output_type": "execute_result",
          "data": {
            "text/plain": [
              "[<matplotlib.lines.Line2D at 0x7fd19f102da0>]"
            ]
          },
          "metadata": {
            "tags": []
          },
          "execution_count": 10
        },
        {
          "output_type": "display_data",
          "data": {
            "image/png": "[encoded data removed]",
            "text/plain": [
              "<Figure size 432x288 with 1 Axes>"
            ]
          },
          "metadata": {
            "tags": [],
            "needs_background": "light"
          }
        }
      ]
    },
    {
      "cell_type": "code",
      "metadata": {
        "colab": {
          "base_uri": "https://localhost:8080/",
          "height": 419
        },
        "id": "Wwrok-lrt-bt",
        "outputId": "3c5260a9-c7d0-4f38-da9c-cc78a66d3846"
      },
      "source": [
        "avocado_df"
      ],
      "execution_count": 11,
      "outputs": [
        {
          "output_type": "execute_result",
          "data": {
            "text/html": [
              "<div>\n",
              "<style scoped>\n",
              "    .dataframe tbody tr th:only-of-type {\n",
              "        vertical-align: middle;\n",
              "    }\n",
              "\n",
              "    .dataframe tbody tr th {\n",
              "        vertical-align: top;\n",
              "    }\n",
              "\n",
              "    .dataframe thead th {\n",
              "        text-align: right;\n",
              "    }\n",
              "</style>\n",
              "<table border=\"1\" class=\"dataframe\">\n",
              "  <thead>\n",
              "    <tr style=\"text-align: right;\">\n",
              "      <th></th>\n",
              "      <th>Unnamed: 0</th>\n",
              "      <th>Date</th>\n",
              "      <th>AveragePrice</th>\n",
              "      <th>Total Volume</th>\n",
              "      <th>4046</th>\n",
              "      <th>4225</th>\n",
              "      <th>4770</th>\n",
              "      <th>Total Bags</th>\n",
              "      <th>Small Bags</th>\n",
              "      <th>Large Bags</th>\n",
              "      <th>XLarge Bags</th>\n",
              "      <th>type</th>\n",
              "      <th>year</th>\n",
              "      <th>region</th>\n",
              "    </tr>\n",
              "  </thead>\n",
              "  <tbody>\n",
              "    <tr>\n",
              "      <th>11569</th>\n",
              "      <td>51</td>\n",
              "      <td>2015-01-04</td>\n",
              "      <td>1.75</td>\n",
              "      <td>27365.89</td>\n",
              "      <td>9307.34</td>\n",
              "      <td>3844.81</td>\n",
              "      <td>615.28</td>\n",
              "      <td>13598.46</td>\n",
              "      <td>13061.10</td>\n",
              "      <td>537.36</td>\n",
              "      <td>0.00</td>\n",
              "      <td>organic</td>\n",
              "      <td>2015</td>\n",
              "      <td>Southeast</td>\n",
              "    </tr>\n",
              "    <tr>\n",
              "      <th>9593</th>\n",
              "      <td>51</td>\n",
              "      <td>2015-01-04</td>\n",
              "      <td>1.49</td>\n",
              "      <td>17723.17</td>\n",
              "      <td>1189.35</td>\n",
              "      <td>15628.27</td>\n",
              "      <td>0.00</td>\n",
              "      <td>905.55</td>\n",
              "      <td>905.55</td>\n",
              "      <td>0.00</td>\n",
              "      <td>0.00</td>\n",
              "      <td>organic</td>\n",
              "      <td>2015</td>\n",
              "      <td>Chicago</td>\n",
              "    </tr>\n",
              "    <tr>\n",
              "      <th>10009</th>\n",
              "      <td>51</td>\n",
              "      <td>2015-01-04</td>\n",
              "      <td>1.68</td>\n",
              "      <td>2896.72</td>\n",
              "      <td>161.68</td>\n",
              "      <td>206.96</td>\n",
              "      <td>0.00</td>\n",
              "      <td>2528.08</td>\n",
              "      <td>2528.08</td>\n",
              "      <td>0.00</td>\n",
              "      <td>0.00</td>\n",
              "      <td>organic</td>\n",
              "      <td>2015</td>\n",
              "      <td>HarrisburgScranton</td>\n",
              "    </tr>\n",
              "    <tr>\n",
              "      <th>1819</th>\n",
              "      <td>51</td>\n",
              "      <td>2015-01-04</td>\n",
              "      <td>1.52</td>\n",
              "      <td>54956.80</td>\n",
              "      <td>3013.04</td>\n",
              "      <td>35456.88</td>\n",
              "      <td>1561.70</td>\n",
              "      <td>14925.18</td>\n",
              "      <td>11264.80</td>\n",
              "      <td>3660.38</td>\n",
              "      <td>0.00</td>\n",
              "      <td>conventional</td>\n",
              "      <td>2015</td>\n",
              "      <td>Pittsburgh</td>\n",
              "    </tr>\n",
              "    <tr>\n",
              "      <th>9333</th>\n",
              "      <td>51</td>\n",
              "      <td>2015-01-04</td>\n",
              "      <td>1.64</td>\n",
              "      <td>1505.12</td>\n",
              "      <td>1.27</td>\n",
              "      <td>1129.50</td>\n",
              "      <td>0.00</td>\n",
              "      <td>374.35</td>\n",
              "      <td>186.67</td>\n",
              "      <td>187.68</td>\n",
              "      <td>0.00</td>\n",
              "      <td>organic</td>\n",
              "      <td>2015</td>\n",
              "      <td>Boise</td>\n",
              "    </tr>\n",
              "    <tr>\n",
              "      <th>...</th>\n",
              "      <td>...</td>\n",
              "      <td>...</td>\n",
              "      <td>...</td>\n",
              "      <td>...</td>\n",
              "      <td>...</td>\n",
              "      <td>...</td>\n",
              "      <td>...</td>\n",
              "      <td>...</td>\n",
              "      <td>...</td>\n",
              "      <td>...</td>\n",
              "      <td>...</td>\n",
              "      <td>...</td>\n",
              "      <td>...</td>\n",
              "      <td>...</td>\n",
              "    </tr>\n",
              "    <tr>\n",
              "      <th>8574</th>\n",
              "      <td>0</td>\n",
              "      <td>2018-03-25</td>\n",
              "      <td>1.36</td>\n",
              "      <td>908202.13</td>\n",
              "      <td>142681.06</td>\n",
              "      <td>463136.28</td>\n",
              "      <td>174975.75</td>\n",
              "      <td>127409.04</td>\n",
              "      <td>103579.41</td>\n",
              "      <td>22467.04</td>\n",
              "      <td>1362.59</td>\n",
              "      <td>conventional</td>\n",
              "      <td>2018</td>\n",
              "      <td>Chicago</td>\n",
              "    </tr>\n",
              "    <tr>\n",
              "      <th>9018</th>\n",
              "      <td>0</td>\n",
              "      <td>2018-03-25</td>\n",
              "      <td>0.70</td>\n",
              "      <td>9010588.32</td>\n",
              "      <td>3999735.71</td>\n",
              "      <td>966589.50</td>\n",
              "      <td>30130.82</td>\n",
              "      <td>4014132.29</td>\n",
              "      <td>3398569.92</td>\n",
              "      <td>546409.74</td>\n",
              "      <td>69152.63</td>\n",
              "      <td>conventional</td>\n",
              "      <td>2018</td>\n",
              "      <td>SouthCentral</td>\n",
              "    </tr>\n",
              "    <tr>\n",
              "      <th>18141</th>\n",
              "      <td>0</td>\n",
              "      <td>2018-03-25</td>\n",
              "      <td>1.42</td>\n",
              "      <td>163496.70</td>\n",
              "      <td>29253.30</td>\n",
              "      <td>5080.04</td>\n",
              "      <td>0.00</td>\n",
              "      <td>129163.36</td>\n",
              "      <td>109052.26</td>\n",
              "      <td>20111.10</td>\n",
              "      <td>0.00</td>\n",
              "      <td>organic</td>\n",
              "      <td>2018</td>\n",
              "      <td>SouthCentral</td>\n",
              "    </tr>\n",
              "    <tr>\n",
              "      <th>17673</th>\n",
              "      <td>0</td>\n",
              "      <td>2018-03-25</td>\n",
              "      <td>1.70</td>\n",
              "      <td>190257.38</td>\n",
              "      <td>29644.09</td>\n",
              "      <td>70982.10</td>\n",
              "      <td>0.00</td>\n",
              "      <td>89631.19</td>\n",
              "      <td>89424.11</td>\n",
              "      <td>207.08</td>\n",
              "      <td>0.00</td>\n",
              "      <td>organic</td>\n",
              "      <td>2018</td>\n",
              "      <td>California</td>\n",
              "    </tr>\n",
              "    <tr>\n",
              "      <th>8814</th>\n",
              "      <td>0</td>\n",
              "      <td>2018-03-25</td>\n",
              "      <td>1.34</td>\n",
              "      <td>1774776.77</td>\n",
              "      <td>63905.98</td>\n",
              "      <td>908653.71</td>\n",
              "      <td>843.45</td>\n",
              "      <td>801373.63</td>\n",
              "      <td>774634.09</td>\n",
              "      <td>23833.93</td>\n",
              "      <td>2905.61</td>\n",
              "      <td>conventional</td>\n",
              "      <td>2018</td>\n",
              "      <td>NewYork</td>\n",
              "    </tr>\n",
              "  </tbody>\n",
              "</table>\n",
              "<p>18249 rows × 14 columns</p>\n",
              "</div>"
            ],
            "text/plain": [
              "       Unnamed: 0        Date  ...  year              region\n",
              "11569          51  2015-01-04  ...  2015           Southeast\n",
              "9593           51  2015-01-04  ...  2015             Chicago\n",
              "10009          51  2015-01-04  ...  2015  HarrisburgScranton\n",
              "1819           51  2015-01-04  ...  2015          Pittsburgh\n",
              "9333           51  2015-01-04  ...  2015               Boise\n",
              "...           ...         ...  ...   ...                 ...\n",
              "8574            0  2018-03-25  ...  2018             Chicago\n",
              "9018            0  2018-03-25  ...  2018        SouthCentral\n",
              "18141           0  2018-03-25  ...  2018        SouthCentral\n",
              "17673           0  2018-03-25  ...  2018          California\n",
              "8814            0  2018-03-25  ...  2018             NewYork\n",
              "\n",
              "[18249 rows x 14 columns]"
            ]
          },
          "metadata": {
            "tags": []
          },
          "execution_count": 11
        }
      ]
    },
    {
      "cell_type": "code",
      "metadata": {
        "colab": {
          "base_uri": "https://localhost:8080/",
          "height": 204
        },
        "id": "v19mXX5SuAyy",
        "outputId": "005aeab8-04a1-4987-8f7b-b54018a96176"
      },
      "source": [
        "avocado_df.head()"
      ],
      "execution_count": 12,
      "outputs": [
        {
          "output_type": "execute_result",
          "data": {
            "text/html": [
              "<div>\n",
              "<style scoped>\n",
              "    .dataframe tbody tr th:only-of-type {\n",
              "        vertical-align: middle;\n",
              "    }\n",
              "\n",
              "    .dataframe tbody tr th {\n",
              "        vertical-align: top;\n",
              "    }\n",
              "\n",
              "    .dataframe thead th {\n",
              "        text-align: right;\n",
              "    }\n",
              "</style>\n",
              "<table border=\"1\" class=\"dataframe\">\n",
              "  <thead>\n",
              "    <tr style=\"text-align: right;\">\n",
              "      <th></th>\n",
              "      <th>Unnamed: 0</th>\n",
              "      <th>Date</th>\n",
              "      <th>AveragePrice</th>\n",
              "      <th>Total Volume</th>\n",
              "      <th>4046</th>\n",
              "      <th>4225</th>\n",
              "      <th>4770</th>\n",
              "      <th>Total Bags</th>\n",
              "      <th>Small Bags</th>\n",
              "      <th>Large Bags</th>\n",
              "      <th>XLarge Bags</th>\n",
              "      <th>type</th>\n",
              "      <th>year</th>\n",
              "      <th>region</th>\n",
              "    </tr>\n",
              "  </thead>\n",
              "  <tbody>\n",
              "    <tr>\n",
              "      <th>11569</th>\n",
              "      <td>51</td>\n",
              "      <td>2015-01-04</td>\n",
              "      <td>1.75</td>\n",
              "      <td>27365.89</td>\n",
              "      <td>9307.34</td>\n",
              "      <td>3844.81</td>\n",
              "      <td>615.28</td>\n",
              "      <td>13598.46</td>\n",
              "      <td>13061.10</td>\n",
              "      <td>537.36</td>\n",
              "      <td>0.0</td>\n",
              "      <td>organic</td>\n",
              "      <td>2015</td>\n",
              "      <td>Southeast</td>\n",
              "    </tr>\n",
              "    <tr>\n",
              "      <th>9593</th>\n",
              "      <td>51</td>\n",
              "      <td>2015-01-04</td>\n",
              "      <td>1.49</td>\n",
              "      <td>17723.17</td>\n",
              "      <td>1189.35</td>\n",
              "      <td>15628.27</td>\n",
              "      <td>0.00</td>\n",
              "      <td>905.55</td>\n",
              "      <td>905.55</td>\n",
              "      <td>0.00</td>\n",
              "      <td>0.0</td>\n",
              "      <td>organic</td>\n",
              "      <td>2015</td>\n",
              "      <td>Chicago</td>\n",
              "    </tr>\n",
              "    <tr>\n",
              "      <th>10009</th>\n",
              "      <td>51</td>\n",
              "      <td>2015-01-04</td>\n",
              "      <td>1.68</td>\n",
              "      <td>2896.72</td>\n",
              "      <td>161.68</td>\n",
              "      <td>206.96</td>\n",
              "      <td>0.00</td>\n",
              "      <td>2528.08</td>\n",
              "      <td>2528.08</td>\n",
              "      <td>0.00</td>\n",
              "      <td>0.0</td>\n",
              "      <td>organic</td>\n",
              "      <td>2015</td>\n",
              "      <td>HarrisburgScranton</td>\n",
              "    </tr>\n",
              "    <tr>\n",
              "      <th>1819</th>\n",
              "      <td>51</td>\n",
              "      <td>2015-01-04</td>\n",
              "      <td>1.52</td>\n",
              "      <td>54956.80</td>\n",
              "      <td>3013.04</td>\n",
              "      <td>35456.88</td>\n",
              "      <td>1561.70</td>\n",
              "      <td>14925.18</td>\n",
              "      <td>11264.80</td>\n",
              "      <td>3660.38</td>\n",
              "      <td>0.0</td>\n",
              "      <td>conventional</td>\n",
              "      <td>2015</td>\n",
              "      <td>Pittsburgh</td>\n",
              "    </tr>\n",
              "    <tr>\n",
              "      <th>9333</th>\n",
              "      <td>51</td>\n",
              "      <td>2015-01-04</td>\n",
              "      <td>1.64</td>\n",
              "      <td>1505.12</td>\n",
              "      <td>1.27</td>\n",
              "      <td>1129.50</td>\n",
              "      <td>0.00</td>\n",
              "      <td>374.35</td>\n",
              "      <td>186.67</td>\n",
              "      <td>187.68</td>\n",
              "      <td>0.0</td>\n",
              "      <td>organic</td>\n",
              "      <td>2015</td>\n",
              "      <td>Boise</td>\n",
              "    </tr>\n",
              "  </tbody>\n",
              "</table>\n",
              "</div>"
            ],
            "text/plain": [
              "       Unnamed: 0        Date  ...  year              region\n",
              "11569          51  2015-01-04  ...  2015           Southeast\n",
              "9593           51  2015-01-04  ...  2015             Chicago\n",
              "10009          51  2015-01-04  ...  2015  HarrisburgScranton\n",
              "1819           51  2015-01-04  ...  2015          Pittsburgh\n",
              "9333           51  2015-01-04  ...  2015               Boise\n",
              "\n",
              "[5 rows x 14 columns]"
            ]
          },
          "metadata": {
            "tags": []
          },
          "execution_count": 12
        }
      ]
    },
    {
      "cell_type": "code",
      "metadata": {
        "colab": {
          "base_uri": "https://localhost:8080/",
          "height": 419
        },
        "id": "urzuC_iHuDXb",
        "outputId": "52a9b2f4-30be-4eec-f478-622bccb37ccd"
      },
      "source": [
        "avocado_prophet_df = avocado_df[['Date', 'AveragePrice']]\r\n",
        "avocado_prophet_df"
      ],
      "execution_count": 13,
      "outputs": [
        {
          "output_type": "execute_result",
          "data": {
            "text/html": [
              "<div>\n",
              "<style scoped>\n",
              "    .dataframe tbody tr th:only-of-type {\n",
              "        vertical-align: middle;\n",
              "    }\n",
              "\n",
              "    .dataframe tbody tr th {\n",
              "        vertical-align: top;\n",
              "    }\n",
              "\n",
              "    .dataframe thead th {\n",
              "        text-align: right;\n",
              "    }\n",
              "</style>\n",
              "<table border=\"1\" class=\"dataframe\">\n",
              "  <thead>\n",
              "    <tr style=\"text-align: right;\">\n",
              "      <th></th>\n",
              "      <th>Date</th>\n",
              "      <th>AveragePrice</th>\n",
              "    </tr>\n",
              "  </thead>\n",
              "  <tbody>\n",
              "    <tr>\n",
              "      <th>11569</th>\n",
              "      <td>2015-01-04</td>\n",
              "      <td>1.75</td>\n",
              "    </tr>\n",
              "    <tr>\n",
              "      <th>9593</th>\n",
              "      <td>2015-01-04</td>\n",
              "      <td>1.49</td>\n",
              "    </tr>\n",
              "    <tr>\n",
              "      <th>10009</th>\n",
              "      <td>2015-01-04</td>\n",
              "      <td>1.68</td>\n",
              "    </tr>\n",
              "    <tr>\n",
              "      <th>1819</th>\n",
              "      <td>2015-01-04</td>\n",
              "      <td>1.52</td>\n",
              "    </tr>\n",
              "    <tr>\n",
              "      <th>9333</th>\n",
              "      <td>2015-01-04</td>\n",
              "      <td>1.64</td>\n",
              "    </tr>\n",
              "    <tr>\n",
              "      <th>...</th>\n",
              "      <td>...</td>\n",
              "      <td>...</td>\n",
              "    </tr>\n",
              "    <tr>\n",
              "      <th>8574</th>\n",
              "      <td>2018-03-25</td>\n",
              "      <td>1.36</td>\n",
              "    </tr>\n",
              "    <tr>\n",
              "      <th>9018</th>\n",
              "      <td>2018-03-25</td>\n",
              "      <td>0.70</td>\n",
              "    </tr>\n",
              "    <tr>\n",
              "      <th>18141</th>\n",
              "      <td>2018-03-25</td>\n",
              "      <td>1.42</td>\n",
              "    </tr>\n",
              "    <tr>\n",
              "      <th>17673</th>\n",
              "      <td>2018-03-25</td>\n",
              "      <td>1.70</td>\n",
              "    </tr>\n",
              "    <tr>\n",
              "      <th>8814</th>\n",
              "      <td>2018-03-25</td>\n",
              "      <td>1.34</td>\n",
              "    </tr>\n",
              "  </tbody>\n",
              "</table>\n",
              "<p>18249 rows × 2 columns</p>\n",
              "</div>"
            ],
            "text/plain": [
              "             Date  AveragePrice\n",
              "11569  2015-01-04          1.75\n",
              "9593   2015-01-04          1.49\n",
              "10009  2015-01-04          1.68\n",
              "1819   2015-01-04          1.52\n",
              "9333   2015-01-04          1.64\n",
              "...           ...           ...\n",
              "8574   2018-03-25          1.36\n",
              "9018   2018-03-25          0.70\n",
              "18141  2018-03-25          1.42\n",
              "17673  2018-03-25          1.70\n",
              "8814   2018-03-25          1.34\n",
              "\n",
              "[18249 rows x 2 columns]"
            ]
          },
          "metadata": {
            "tags": []
          },
          "execution_count": 13
        }
      ]
    },
    {
      "cell_type": "code",
      "metadata": {
        "colab": {
          "base_uri": "https://localhost:8080/",
          "height": 538
        },
        "id": "UvUumW0suLjH",
        "outputId": "a0f92269-7f3b-4164-bbac-70860cc0fba5"
      },
      "source": [
        "avocado_prophet_df.rename(columns={'Date':'ds','AveragePrice' : 'y'},inplace='true')\r\n",
        "avocado_prophet_df"
      ],
      "execution_count": 14,
      "outputs": [
        {
          "output_type": "stream",
          "text": [
            "/usr/local/lib/python3.6/dist-packages/pandas/core/frame.py:4308: SettingWithCopyWarning:\n",
            "\n",
            "\n",
            "A value is trying to be set on a copy of a slice from a DataFrame\n",
            "\n",
            "See the caveats in the documentation: https://pandas.pydata.org/pandas-docs/stable/user_guide/indexing.html#returning-a-view-versus-a-copy\n",
            "\n"
          ],
          "name": "stderr"
        },
        {
          "output_type": "execute_result",
          "data": {
            "text/html": [
              "<div>\n",
              "<style scoped>\n",
              "    .dataframe tbody tr th:only-of-type {\n",
              "        vertical-align: middle;\n",
              "    }\n",
              "\n",
              "    .dataframe tbody tr th {\n",
              "        vertical-align: top;\n",
              "    }\n",
              "\n",
              "    .dataframe thead th {\n",
              "        text-align: right;\n",
              "    }\n",
              "</style>\n",
              "<table border=\"1\" class=\"dataframe\">\n",
              "  <thead>\n",
              "    <tr style=\"text-align: right;\">\n",
              "      <th></th>\n",
              "      <th>ds</th>\n",
              "      <th>y</th>\n",
              "    </tr>\n",
              "  </thead>\n",
              "  <tbody>\n",
              "    <tr>\n",
              "      <th>11569</th>\n",
              "      <td>2015-01-04</td>\n",
              "      <td>1.75</td>\n",
              "    </tr>\n",
              "    <tr>\n",
              "      <th>9593</th>\n",
              "      <td>2015-01-04</td>\n",
              "      <td>1.49</td>\n",
              "    </tr>\n",
              "    <tr>\n",
              "      <th>10009</th>\n",
              "      <td>2015-01-04</td>\n",
              "      <td>1.68</td>\n",
              "    </tr>\n",
              "    <tr>\n",
              "      <th>1819</th>\n",
              "      <td>2015-01-04</td>\n",
              "      <td>1.52</td>\n",
              "    </tr>\n",
              "    <tr>\n",
              "      <th>9333</th>\n",
              "      <td>2015-01-04</td>\n",
              "      <td>1.64</td>\n",
              "    </tr>\n",
              "    <tr>\n",
              "      <th>...</th>\n",
              "      <td>...</td>\n",
              "      <td>...</td>\n",
              "    </tr>\n",
              "    <tr>\n",
              "      <th>8574</th>\n",
              "      <td>2018-03-25</td>\n",
              "      <td>1.36</td>\n",
              "    </tr>\n",
              "    <tr>\n",
              "      <th>9018</th>\n",
              "      <td>2018-03-25</td>\n",
              "      <td>0.70</td>\n",
              "    </tr>\n",
              "    <tr>\n",
              "      <th>18141</th>\n",
              "      <td>2018-03-25</td>\n",
              "      <td>1.42</td>\n",
              "    </tr>\n",
              "    <tr>\n",
              "      <th>17673</th>\n",
              "      <td>2018-03-25</td>\n",
              "      <td>1.70</td>\n",
              "    </tr>\n",
              "    <tr>\n",
              "      <th>8814</th>\n",
              "      <td>2018-03-25</td>\n",
              "      <td>1.34</td>\n",
              "    </tr>\n",
              "  </tbody>\n",
              "</table>\n",
              "<p>18249 rows × 2 columns</p>\n",
              "</div>"
            ],
            "text/plain": [
              "               ds     y\n",
              "11569  2015-01-04  1.75\n",
              "9593   2015-01-04  1.49\n",
              "10009  2015-01-04  1.68\n",
              "1819   2015-01-04  1.52\n",
              "9333   2015-01-04  1.64\n",
              "...           ...   ...\n",
              "8574   2018-03-25  1.36\n",
              "9018   2018-03-25  0.70\n",
              "18141  2018-03-25  1.42\n",
              "17673  2018-03-25  1.70\n",
              "8814   2018-03-25  1.34\n",
              "\n",
              "[18249 rows x 2 columns]"
            ]
          },
          "metadata": {
            "tags": []
          },
          "execution_count": 14
        }
      ]
    },
    {
      "cell_type": "code",
      "metadata": {
        "id": "WpWNdIiluPIC"
      },
      "source": [
        "m = Prophet()"
      ],
      "execution_count": 15,
      "outputs": []
    },
    {
      "cell_type": "code",
      "metadata": {
        "colab": {
          "base_uri": "https://localhost:8080/"
        },
        "id": "zIAwu3nnuTBa",
        "outputId": "73283b35-aafb-44f5-d72f-c622f5419f4e"
      },
      "source": [
        "m.fit(avocado_prophet_df)"
      ],
      "execution_count": 16,
      "outputs": [
        {
          "output_type": "stream",
          "text": [
            "INFO:numexpr.utils:NumExpr defaulting to 2 threads.\n",
            "INFO:fbprophet:Disabling weekly seasonality. Run prophet with weekly_seasonality=True to override this.\n",
            "INFO:fbprophet:Disabling daily seasonality. Run prophet with daily_seasonality=True to override this.\n"
          ],
          "name": "stderr"
        },
        {
          "output_type": "execute_result",
          "data": {
            "text/plain": [
              "<fbprophet.forecaster.Prophet at 0x7fd19f1cddd8>"
            ]
          },
          "metadata": {
            "tags": []
          },
          "execution_count": 16
        }
      ]
    },
    {
      "cell_type": "code",
      "metadata": {
        "id": "qCP7HYSKuW8u"
      },
      "source": [
        "future = m.make_future_dataframe(periods = 365)\r\n",
        "forecast = m.predict(future)"
      ],
      "execution_count": 17,
      "outputs": []
    },
    {
      "cell_type": "code",
      "metadata": {
        "colab": {
          "base_uri": "https://localhost:8080/",
          "height": 441
        },
        "id": "cdnuKW7rugSo",
        "outputId": "d9fa190a-600d-4ad1-bfe5-1f99aa0c4548"
      },
      "source": [
        "figure = m.plot(forecast, xlabel='Date', ylabel='Price')"
      ],
      "execution_count": 18,
      "outputs": [
        {
          "output_type": "display_data",
          "data": {
            "image/png": "[encoded data removed]",
            "text/plain": [
              "<Figure size 720x432 with 1 Axes>"
            ]
          },
          "metadata": {
            "tags": []
          }
        }
      ]
    },
    {
      "cell_type": "code",
      "metadata": {
        "id": "qnYCE0hHukrn"
      },
      "source": [
        ""
      ],
      "execution_count": null,
      "outputs": []
    }
  ]
}